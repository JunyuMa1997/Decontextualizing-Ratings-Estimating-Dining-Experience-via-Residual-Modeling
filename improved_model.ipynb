{
 "cells": [
  {
   "cell_type": "code",
   "execution_count": 1,
   "metadata": {},
   "outputs": [],
   "source": [
    "import pandas as pd\n",
    "\n",
    "df = pd.read_excel('../../data/Outscraper.xlsx')\n"
   ]
  },
  {
   "cell_type": "code",
   "execution_count": 2,
   "metadata": {},
   "outputs": [],
   "source": [
    "subdf=pd.read_csv('../../data/census_subset_clean.csv')"
   ]
  },
  {
   "cell_type": "code",
   "execution_count": 3,
   "metadata": {},
   "outputs": [],
   "source": [
    "df[['population', 'median_income']] = subdf[['population', 'median_income']]"
   ]
  },
  {
   "cell_type": "code",
   "execution_count": 4,
   "metadata": {},
   "outputs": [],
   "source": [
    "def categorize(text):\n",
    "    for category, keywords in keyword_map.items():\n",
    "        if any(keyword.lower() in text.lower() for keyword in keywords):\n",
    "            return category\n",
    "    return \"other\"  \n",
    "keyword_map = {\n",
    "    \"Asian food\": [\n",
    "        \"Vietnamese\", \"Sichuan\", \"Japanese\", \"Indonesian\", \"Thai\", \"Chinese\", \n",
    "        \"Korean\", \"Filipino\", \"Malaysian\", \"Taiwanese\", \"Pakistani\", \"Afghan\", \n",
    "        \"Nepalese\", \"Tibetan\", \"Cambodian\", \"Asian\", \"Pan-Asian\", \"Southeast Asian\",\n",
    "        \"Dan Dan\", \"Pho\", \"Shabu-shabu\", \"Ramen\"\n",
    "    ],\n",
    "    \"European and US food\": [\n",
    "        \"Italian\", \"European\", \"American\", \"Western\", \"US\", \"French\", \"Irish\", \n",
    "        \"Greek\", \"Portuguese\", \"German\", \"Spanish\", \"Swedish\", \"Polish\", \n",
    "        \"British\", \"Dutch\", \"Modern European\", \"Mid-Atlantic\", \"Southern Italian\"\n",
    "    ],\n",
    "    \"African food\": [\n",
    "        \"Ethiopian\", \"Eritrean\", \"Moroccan\", \"Tunisian\", \"West African\", \"African\"\n",
    "    ],\n",
    "    \"Middle Eastern food\": [\n",
    "        \"Lebanese\", \"Israeli\", \"Turkish\", \"Halal\", \"Kosher\", \"Georgian\", \"Yemeni\"\n",
    "    ],\n",
    "    \"Latin American and Caribbean food\": [\n",
    "        \"Mexican\", \"Honduran\", \"Salvadoran\", \"Guatemalan\", \"Colombian\", \n",
    "        \"Brazilian\", \"Argentinian\", \"Peruvian\", \"Puerto Rican\", \"Cuban\", \n",
    "        \"Venezuelan\", \"Latin American\", \"Caribbean\"\n",
    "    ],\n",
    "    \"Indian food\": [\n",
    "        \"Indian\", \"Modern Indian\", \"South Indian\", \"Indian takeaway\"\n",
    "    ],\n",
    "    \"Fast food\": [\n",
    "        \"Pizza\", \"Fast food\", \"Fried chicken\", \"Hot dog\", \"Burger\", \n",
    "        \"Takeout\", \"Delivery\", \"Wings\", \"Donut\", \"Burrito\", \"Taco\"\n",
    "    ],\n",
    "    \"Vegan and healthy food\": [\n",
    "        \"Vegan\", \"Vegetarian\", \"Organic\", \"Health food\", \"Salad\", \"Raw food\", \n",
    "        \"Juice\", \"Açaí\", \"Fresh food\"\n",
    "    ],\n",
    "    \"Desserts and snacks\": [\n",
    "        \"Ice cream\", \"Dessert\", \"Snack\", \"Pretzel\", \"Bakery\", \"Creperie\", \"Donut\"\n",
    "    ],\n",
    "    \"Drinks and bars\": [\n",
    "        \"Bar\", \"Cocktail\", \"Pub\", \"Brewery\", \"Beer\", \"Wine\", \"Liquor\", \n",
    "        \"Beer garden\", \"Brewpub\", \"Karaoke\", \"Hookah\", \"Lounge\", \"Club\", \n",
    "        \"Sports bar\", \"Coffee\", \"Tea\", \"Juice\"\n",
    "    ],\n",
    "    \"Seafood\": [\n",
    "        \"Seafood\", \"Crab\", \"Oyster\", \"Fish & chips\"\n",
    "    ],\n",
    "    \"Buffet and mixed cuisine\": [\n",
    "        \"Buffet\", \"Fusion\", \"Eclectic\", \"Dim sum\", \"Asian fusion\"\n",
    "    ],\n",
    "    \"Specialty or ethnic\": [\n",
    "        \"Cambodian\", \"Uzbeki\", \"Ecuadorian\", \"Georgian\", \"Jewish\", \"Bangladeshi\", \"Laotian\"\n",
    "    ],\n",
    "    \"Catering and service\": [\n",
    "        \"Caterer\", \"Catering\", \"Personal chef\", \"Mobile caterer\", \"Cooking class\", \n",
    "        \"Event\", \"Entertainment\", \"Catering equipment\"\n",
    "    ],\n",
    "    \"Other / uncategorized\": [\n",
    "        \"Market\", \"Grocery\", \"Store\", \"Mall\", \"Hotel\", \"Bed & breakfast\", \n",
    "        \"Convenience store\", \"Food court\", \"Shopping\", \"Self service\", \n",
    "        \"Association\", \"Vitamin\", \"Smoke shop\", \"Lingerie\"\n",
    "    ]\n",
    "}\n",
    "df[\"category\"] = df[\"type\"].astype(str).apply(categorize)"
   ]
  },
  {
   "cell_type": "code",
   "execution_count": 5,
   "metadata": {},
   "outputs": [],
   "source": [
    "df.groupby('type').rating.mean()\n",
    "price_mapping = {'$': 1, '$$': 2, '$$$': 3, '$$$$': 4}\n",
    "df['price'] = df['range'].map(price_mapping) \n"
   ]
  },
  {
   "cell_type": "code",
   "execution_count": 6,
   "metadata": {},
   "outputs": [
    {
     "name": "stderr",
     "output_type": "stream",
     "text": [
      "/var/folders/y6/68vnvhnn5lq29tm5q9k42_600000gn/T/ipykernel_11889/2910396506.py:4: FutureWarning: A value is trying to be set on a copy of a DataFrame or Series through chained assignment using an inplace method.\n",
      "The behavior will change in pandas 3.0. This inplace method will never work because the intermediate object on which we are setting values always behaves as a copy.\n",
      "\n",
      "For example, when doing 'df[col].method(value, inplace=True)', try using 'df.method({col: value}, inplace=True)' or df[col] = df[col].method(value) instead, to perform the operation inplace on the original object.\n",
      "\n",
      "\n",
      "  df['price'].fillna(df['price'].median(), inplace=True)\n"
     ]
    }
   ],
   "source": [
    "df = df.dropna(subset=[\"rating\"])\n",
    "df[\"rating\"] = df[\"rating\"].fillna(df[\"rating\"].median()) \n",
    "df = df.dropna(subset=[\"rating\"])\n",
    "df['price'].fillna(df['price'].median(), inplace=True)\n",
    "df = df[df['city'].str.contains('Philadelphia', case=False, na=False)]"
   ]
  },
  {
   "cell_type": "code",
   "execution_count": 18,
   "metadata": {},
   "outputs": [],
   "source": [
    "from matplotlib import pyplot as plt\n",
    "import seaborn as sns"
   ]
  },
  {
   "cell_type": "code",
   "execution_count": 7,
   "metadata": {},
   "outputs": [],
   "source": [
    "from sklearn.linear_model import LogisticRegression\n",
    "from sklearn.metrics import mean_squared_error\n",
    "from sklearn.model_selection import KFold\n",
    "from sklearn.model_selection import train_test_split\n",
    "import numpy as np\n",
    "from sklearn.pipeline import Pipeline\n",
    "from sklearn.preprocessing import StandardScaler\n",
    "from sklearn.neighbors import KNeighborsRegressor"
   ]
  },
  {
   "cell_type": "code",
   "execution_count": 13,
   "metadata": {},
   "outputs": [],
   "source": [
    "n_splits=5\n",
    "kfold = KFold(n_splits=5)"
   ]
  },
  {
   "cell_type": "code",
   "execution_count": 8,
   "metadata": {},
   "outputs": [],
   "source": [
    "from datetime import datetime\n",
    "def ensure_am_pm(time_str):\n",
    "    time_str = time_str.strip()\n",
    "    if 'am' in time_str.lower() or 'pm' in time_str.lower():\n",
    "        return time_str.upper()\n",
    "    if ':' in time_str:\n",
    "        return time_str + 'AM'  # assume morning\n",
    "    elif time_str.isdigit():\n",
    "        return time_str + 'AM'  # assume morning\n",
    "    return time_str\n",
    "\n",
    "# Parse a single time range (e.g. '11:30AM-3PM')\n",
    "def get_hours_from_range(time_range):\n",
    "    start, end = time_range.split('-')\n",
    "\n",
    "    start = ensure_am_pm(start)\n",
    "    end = ensure_am_pm(end)\n",
    "\n",
    "    # Parse with or without minutes\n",
    "    try:\n",
    "        start_dt = datetime.strptime(start, '%I:%M%p')\n",
    "    except ValueError:\n",
    "        start_dt = datetime.strptime(start, '%I%p')\n",
    "\n",
    "    try:\n",
    "        end_dt = datetime.strptime(end, '%I:%M%p')\n",
    "    except ValueError:\n",
    "        end_dt = datetime.strptime(end, '%I%p')\n",
    "\n",
    "    duration = (end_dt - start_dt).seconds / 3600\n",
    "    return duration\n",
    "\n",
    "# Parse a full day's schedule (e.g. '11:30AM-3PM,5-10PM')\n",
    "def calculate_operating_hours(day_schedule):\n",
    "    if not isinstance(day_schedule, str):\n",
    "        return 0.0\n",
    "    day_schedule = day_schedule.strip().lower()\n",
    "\n",
    "    if 'closed' in day_schedule:\n",
    "        return 0.0\n",
    "    if 'open 24 hours' in day_schedule:\n",
    "        return 24.0\n",
    "\n",
    "    total = 0.0\n",
    "    for time_range in day_schedule.split(','):\n",
    "        time_range = time_range.strip()\n",
    "        if not time_range or 'open 24 hours' in time_range:\n",
    "            continue\n",
    "        try:\n",
    "            total += get_hours_from_range(time_range)\n",
    "        except Exception as e:\n",
    "            print(f\"Error parsing time '{time_range}': {e}\")\n",
    "    return total\n",
    "\n",
    "# Parse a full week (e.g. 'Monday:10AM-9PM|Tuesday:Closed|...')\n",
    "def calculate_total_operating_time(schedule_str):\n",
    "    if not isinstance(schedule_str, str):\n",
    "        return 0.0\n",
    "\n",
    "    total_hours = 0.0\n",
    "    for day in schedule_str.split('|'):\n",
    "        if ':' not in day:\n",
    "            continue\n",
    "        day_name, day_schedule = day.split(':', 1)\n",
    "        total_hours += calculate_operating_hours(day_schedule)\n",
    "    return total_hours\n",
    "\n",
    "# Example: apply to your DataFrame\n",
    "# Assuming your dataframe is called df and the column is 'working_hours_old_format'\n",
    "df['time'] = df['working_hours_old_format'].apply(calculate_total_operating_time)\n",
    "df.loc[df['time'] == 0, 'time'] = df['time'].median()"
   ]
  },
  {
   "cell_type": "code",
   "execution_count": 9,
   "metadata": {},
   "outputs": [],
   "source": [
    "df = df.loc[df.reviews >= 50] #we want to consider number f reviews as a factor and thus drop those without enough reviews"
   ]
  },
  {
   "cell_type": "code",
   "execution_count": 10,
   "metadata": {},
   "outputs": [],
   "source": [
    "df = df[~df['name'].str.contains('truck', case=False, na=False)]# drop the food trucks"
   ]
  },
  {
   "cell_type": "code",
   "execution_count": 11,
   "metadata": {},
   "outputs": [],
   "source": [
    "from geopy.distance import geodesic\n",
    "city_center_coords = (39.9526, -75.1652)  # (lat, lon)\n",
    "\n",
    "# Compute distance to City Hall and create new feature column\n",
    "df['city_hall_distance_km'] = df.apply(\n",
    "    lambda row: geodesic(city_center_coords, (row['latitude'], row['longitude'])).kilometers,\n",
    "    axis=1\n",
    ")"
   ]
  },
  {
   "cell_type": "code",
   "execution_count": 12,
   "metadata": {},
   "outputs": [],
   "source": [
    "from requests import request"
   ]
  },
  {
   "cell_type": "code",
   "execution_count": null,
   "metadata": {},
   "outputs": [],
   "source": [
    "url = \"https://www3.septa.org/api/locations/get_locations.php\"\n",
    "params = {\n",
    "    \"lon\": -75.1652,\n",
    "    \"lat\": 39.9526,\n",
    "    \"type\": \"trolley_stops\",\n",
    "    \"radius\": 25\n",
    "}\n",
    "\n",
    "# Send request\n",
    "response = requests.get(url, params=params)\n",
    "\n",
    "# Convert response to JSON\n",
    "data = response.json()\n",
    "\n",
    "# Convert to DataFrame\n",
    "df_trolley_stops = pd.DataFrame(data)\n",
    "\n",
    "# Show result\n",
    "print(df_trolley_stops.head())\n",
    "len(df_trolley_stops)"
   ]
  },
  {
   "cell_type": "code",
   "execution_count": 13,
   "metadata": {},
   "outputs": [],
   "source": [
    "#it took a while to get the data, so we saved it and now load it\n",
    "#there are some missing stops, so we add them manually\n",
    "df_stops_unique=pd.read_csv('../../data/philly_trolley_stops.csv')\n",
    "new_coords = [\n",
    "    (39.963076, -75.259995),\n",
    "    (39.9644, -75.2523),\n",
    "    (39.9627, -75.2468),\n",
    "    (39.9619, -75.2408),\n",
    "    (39.9608, -75.233),\n",
    "    (39.9597, -75.225),\n",
    "    (39.9585, -75.2141),\n",
    "    (39.957, -75.202),\n",
    "    (39.95575, -75.19132),\n",
    "    (39.955, -75.1835),\n",
    "    (39.955, -75.1835),  # duplicate — will be removed\n",
    "    (39.951944, -75.161389),\n",
    "    (39.952076, -75.156612),\n",
    "    (39.952076, -75.156612),  # duplicate — will be removed\n",
    "    (39.9505, -75.1488),\n",
    "    (39.9498, -75.1436),\n",
    "    (39.9606, -75.1404),\n",
    "    (39.9689, -75.1362),\n",
    "    (39.9787, -75.1335),\n",
    "    (39.9851, -75.1322),\n",
    "    (39.9888, -75.1273),\n",
    "    (39.9916, -75.1222),\n",
    "    (39.9965, -75.1135),\n",
    "    (40.0003, -75.1065),\n",
    "    (40.006, -75.0961),\n",
    "    (40.0107, -75.0889),\n",
    "    (40.0162, -75.0842),\n",
    "    (40.023333, -75.076944),\n",
    "]\n",
    "\n",
    "# Convert to DataFrame\n",
    "df_new = pd.DataFrame(new_coords, columns=[\"location_lat\", \"location_lon\"])\n",
    "\n",
    "# Append and drop duplicates\n",
    "df_stops_unique = pd.concat([df_stops_unique, df_new], ignore_index=True).drop_duplicates().reset_index(drop=True)"
   ]
  },
  {
   "cell_type": "code",
   "execution_count": 14,
   "metadata": {},
   "outputs": [],
   "source": [
    "import plotly.express as px"
   ]
  },
  {
   "cell_type": "code",
   "execution_count": 15,
   "metadata": {},
   "outputs": [
    {
     "data": {
      "application/vnd.plotly.v1+json": {
       "config": {
        "plotlyServerURL": "https://plot.ly"
       },
       "data": [
        {
         "coloraxis": "coloraxis",
         "hovertemplate": "location_lat=%{lat}<br>location_lon=%{lon}<extra></extra>",
         "lat": [
          39.952291,
          39.952538,
          39.952475,
          39.953309,
          39.95314,
          39.953989,
          39.953846,
          39.970703,
          39.970912,
          39.970765,
          39.970982,
          39.970399,
          39.971357,
          39.970497,
          39.971437,
          39.970341,
          39.970439,
          39.971783,
          39.971863,
          39.970147,
          39.970209,
          39.971983,
          39.972063,
          39.969919,
          39.972332,
          39.972282,
          39.969675,
          39.954868,
          39.969755,
          39.954716,
          39.972486,
          39.9724,
          39.969438,
          39.969491,
          39.972662,
          39.972591,
          39.972834,
          39.972745,
          39.968824,
          39.968841,
          39.972237,
          39.968774,
          39.968864,
          39.972312,
          39.972349,
          39.972369,
          39.954363,
          39.954515,
          39.973958,
          39.973878,
          39.950914,
          39.951048,
          39.953854,
          39.953872,
          39.954862,
          39.954933,
          39.956058,
          39.956281,
          39.949533,
          39.957699,
          39.949595,
          39.948536,
          39.948599,
          39.947966,
          39.958646,
          39.948472,
          39.938282,
          39.946666,
          39.946915,
          39.945535,
          39.945767,
          39.949948,
          39.949832,
          39.948549,
          39.948433,
          39.939891,
          39.944314,
          39.944537,
          39.93998,
          39.937072,
          39.936867,
          39.94321,
          39.949915,
          39.943451,
          39.94979,
          39.941926,
          39.942149,
          39.936163,
          39.960145,
          39.974167,
          39.974096,
          39.974339,
          39.974268,
          39.974538,
          39.974468,
          39.974973,
          39.974902,
          39.975163,
          39.975108,
          39.974947,
          39.974349,
          39.974139,
          39.975592,
          39.975423,
          39.973095,
          39.972969,
          39.971851,
          39.976711,
          39.976907,
          39.971682,
          39.970956,
          39.977999,
          39.978186,
          39.970786,
          39.978941,
          39.970282,
          39.979137,
          39.970095,
          39.979758,
          39.979945,
          39.980477,
          39.980682,
          39.98156,
          39.981756,
          39.98283,
          39.983053,
          39.984262,
          39.960214,
          39.961189,
          39.983803,
          39.983617,
          39.983626,
          39.981022,
          39.980528,
          39.97725,
          39.977097,
          39.977093,
          39.976864,
          39.97696,
          39.976864,
          39.976731,
          39.976653,
          39.976519,
          39.976486,
          39.976344,
          39.978332,
          39.976327,
          39.978109,
          39.976194,
          39.975163,
          39.975162,
          39.976123,
          39.976009,
          39.975967,
          39.975833,
          39.975791,
          39.975657,
          39.973775,
          39.973712,
          39.975606,
          39.975464,
          39.975591,
          39.973104,
          39.975332,
          39.972917,
          39.972898,
          39.973315,
          39.972814,
          39.973658,
          39.973197,
          39.972672,
          39.97393,
          39.973433,
          39.973752,
          39.974092,
          39.973998,
          39.971987,
          39.972199,
          39.974457,
          39.961252,
          39.957269,
          39.957947,
          39.96187,
          39.961915,
          39.962837,
          39.963105,
          39.96375,
          39.965017,
          39.949668,
          39.965031,
          39.948499,
          39.935118,
          39.936128,
          39.935344,
          39.933365,
          39.933597,
          39.932268,
          39.931102,
          39.930879,
          39.940732,
          39.940964,
          39.930051,
          39.929828,
          39.928053,
          39.928267,
          39.927528,
          39.927305,
          39.929041,
          39.929264,
          39.926566,
          39.926343,
          39.929905,
          39.930262,
          39.930181,
          39.930974,
          39.925702,
          39.930404,
          39.93125,
          39.929113,
          39.925479,
          39.928765,
          39.925065,
          39.924157,
          39.924842,
          39.923934,
          39.93239,
          39.92797,
          39.932586,
          39.92483,
          39.923195,
          39.925973,
          39.926187,
          39.92784,
          39.924607,
          39.922972,
          39.926596,
          39.926854,
          39.922305,
          39.928835,
          39.922082,
          39.933587,
          39.933843,
          39.923895,
          39.923672,
          39.928574,
          39.921468,
          39.932255,
          39.932416,
          39.927878,
          39.921236,
          39.928101,
          39.93462,
          39.934937,
          39.974297,
          39.971573,
          39.971519,
          39.970606,
          39.971701,
          39.97154,
          39.969694,
          39.970752,
          39.970592,
          39.971156,
          39.970558,
          39.970987,
          39.970389,
          39.971348,
          39.970188,
          39.970019,
          39.970898,
          39.969977,
          39.971597,
          39.969825,
          39.969793,
          39.898731,
          39.899525,
          39.904248,
          39.90732,
          39.907365,
          39.909123,
          39.909221,
          39.911088,
          39.911132,
          39.913269,
          39.913346,
          39.914006,
          39.914094,
          39.914317,
          39.915082,
          39.915305,
          39.916026,
          39.916249,
          39.916193,
          39.916291,
          39.917122,
          39.917345,
          39.916453,
          39.916427,
          39.917162,
          39.917367,
          39.916759,
          39.916732,
          39.918119,
          39.918333,
          39.917055,
          39.917029,
          39.918432,
          39.906316,
          39.918622,
          39.917423,
          39.917406,
          39.919259,
          39.919361,
          39.919482,
          39.917746,
          39.919584,
          39.917729,
          39.918141,
          39.918115,
          39.920483,
          39.920301,
          39.920697,
          39.920524,
          39.918091,
          39.949535,
          39.948383,
          39.949368,
          39.949235,
          39.947967,
          39.949148,
          39.948997,
          39.947033,
          39.94681,
          39.948911,
          39.948777,
          39.933235,
          39.933458,
          39.934286,
          39.934508,
          39.929152,
          39.928929,
          39.935265,
          39.935488,
          39.935573,
          39.935787,
          39.936597,
          39.93682,
          39.937612,
          39.936262,
          39.937924,
          39.936485,
          39.938565,
          39.938797,
          39.937215,
          39.966319,
          39.966349,
          39.967599,
          39.967735,
          39.969416,
          39.918248,
          39.91904,
          39.921445,
          39.921668,
          39.922612,
          39.939832,
          39.940055,
          39.93896,
          39.939183,
          39.938185,
          39.938408,
          39.937438,
          39.962073,
          39.971868,
          39.970207,
          39.958708,
          39.957515,
          39.957372,
          39.955824,
          39.95578,
          39.954978,
          39.954729,
          39.951614,
          39.939535,
          39.939794,
          39.940497,
          39.947908,
          39.948279,
          39.947768,
          39.948101,
          39.9477,
          39.948552,
          39.948418,
          39.947766,
          39.947742,
          39.948762,
          39.948629,
          39.9687,
          39.968593,
          39.94729,
          39.946133,
          39.945911,
          39.945199,
          39.944976,
          39.945721,
          39.94639,
          39.945107,
          39.946839,
          39.944219,
          39.943811,
          39.940755,
          39.94145,
          39.941708,
          39.94226,
          39.942509,
          39.9295,
          39.929348,
          39.929194,
          39.92905,
          39.929565,
          39.92897,
          39.929457,
          39.922835,
          39.944335,
          39.944059,
          39.910246,
          39.910228,
          39.91985,
          39.920015,
          39.926645,
          39.92631,
          39.92618,
          39.926017,
          39.951498,
          39.949665,
          39.949522,
          39.925689,
          39.925546,
          39.9252,
          39.925031,
          39.924507,
          39.924408,
          39.92392,
          39.923635,
          39.92303,
          39.948632,
          39.948453,
          39.963076,
          39.9644,
          39.9627,
          39.9619,
          39.9608,
          39.9597,
          39.9585,
          39.957,
          39.95575,
          39.955,
          39.951944,
          39.952076,
          39.9505,
          39.9498,
          39.9606,
          39.9689,
          39.9787,
          39.9851,
          39.9888,
          39.9916,
          39.9965,
          40.0003,
          40.006,
          40.0107,
          40.0162,
          40.023333
         ],
         "lon": [
          -75.162441,
          -75.165298,
          -75.165299,
          -75.171625,
          -75.171756,
          -75.176701,
          -75.176713,
          -75.154258,
          -75.155864,
          -75.153939,
          -75.155556,
          -75.150054,
          -75.159559,
          -75.149758,
          -75.159264,
          -75.148223,
          -75.147928,
          -75.162818,
          -75.162522,
          -75.145118,
          -75.144822,
          -75.1644,
          -75.164104,
          -75.142874,
          -75.166191,
          -75.166655,
          -75.141659,
          -75.183323,
          -75.141363,
          -75.183418,
          -75.167203,
          -75.167552,
          -75.139687,
          -75.139391,
          -75.16878,
          -75.169087,
          -75.170126,
          -75.170421,
          -75.136252,
          -75.135945,
          -75.175327,
          -75.134209,
          -75.134279,
          -75.175526,
          -75.177368,
          -75.178172,
          -75.189784,
          -75.189996,
          -75.178662,
          -75.178958,
          -75.197247,
          -75.197306,
          -75.194533,
          -75.19471,
          -75.193987,
          -75.193963,
          -75.194077,
          -75.194207,
          -75.203274,
          -75.1938,
          -75.203333,
          -75.204753,
          -75.204883,
          -75.205641,
          -75.193868,
          -75.205789,
          -75.210441,
          -75.207168,
          -75.207026,
          -75.208518,
          -75.208422,
          -75.205717,
          -75.206013,
          -75.20702,
          -75.207316,
          -75.211357,
          -75.209785,
          -75.209701,
          -75.211652,
          -75.212263,
          -75.212334,
          -75.210851,
          -75.207099,
          -75.21085,
          -75.207394,
          -75.211669,
          -75.211657,
          -75.213399,
          -75.196712,
          -75.180244,
          -75.180552,
          -75.181649,
          -75.181957,
          -75.183302,
          -75.18361,
          -75.186514,
          -75.186821,
          -75.188037,
          -75.195961,
          -75.196278,
          -75.117991,
          -75.118096,
          -75.115623,
          -75.115718,
          -75.119768,
          -75.119763,
          -75.125727,
          -75.113303,
          -75.113124,
          -75.125917,
          -75.128247,
          -75.110792,
          -75.110673,
          -75.128472,
          -75.109111,
          -75.130269,
          -75.108944,
          -75.130483,
          -75.107477,
          -75.107334,
          -75.10608,
          -75.105913,
          -75.103995,
          -75.103853,
          -75.101521,
          -75.10139,
          -75.099458,
          -75.197099,
          -75.198667,
          -75.245981,
          -75.246808,
          -75.247032,
          -75.246707,
          -75.246461,
          -75.22725,
          -75.226518,
          -75.229625,
          -75.226235,
          -75.22992,
          -75.23161,
          -75.231906,
          -75.233524,
          -75.233773,
          -75.235084,
          -75.235427,
          -75.246207,
          -75.236608,
          -75.246031,
          -75.236904,
          -75.22259,
          -75.22233,
          -75.238382,
          -75.2387,
          -75.240059,
          -75.240354,
          -75.241607,
          -75.241902,
          -75.21983,
          -75.219534,
          -75.243426,
          -75.24371,
          -75.245553,
          -75.218686,
          -75.244963,
          -75.219064,
          -75.218556,
          -75.212094,
          -75.216277,
          -75.208797,
          -75.211745,
          -75.216561,
          -75.206386,
          -75.209094,
          -75.206647,
          -75.204585,
          -75.204555,
          -75.223438,
          -75.217046,
          -75.201695,
          -75.199044,
          -75.202092,
          -75.202031,
          -75.200058,
          -75.200365,
          -75.201897,
          -75.20257,
          -75.203406,
          -75.205351,
          -75.20919,
          -75.20567,
          -75.209004,
          -75.214326,
          -75.213682,
          -75.214334,
          -75.215556,
          -75.215532,
          -75.216374,
          -75.217782,
          -75.217889,
          -75.212629,
          -75.212546,
          -75.219285,
          -75.219392,
          -75.23073,
          -75.230599,
          -75.231699,
          -75.23183,
          -75.229287,
          -75.229168,
          -75.233071,
          -75.23319,
          -75.2339,
          -75.233612,
          -75.227595,
          -75.23241,
          -75.234325,
          -75.227465,
          -75.232191,
          -75.235201,
          -75.234432,
          -75.235497,
          -75.226441,
          -75.227671,
          -75.22656,
          -75.227778,
          -75.230363,
          -75.236856,
          -75.230386,
          -75.235567,
          -75.22902,
          -75.224892,
          -75.224762,
          -75.237176,
          -75.235673,
          -75.229126,
          -75.223922,
          -75.223721,
          -75.230285,
          -75.238082,
          -75.230404,
          -75.231434,
          -75.231316,
          -75.236891,
          -75.236998,
          -75.238992,
          -75.231503,
          -75.224603,
          -75.224531,
          -75.222101,
          -75.231587,
          -75.221994,
          -75.229979,
          -75.229704,
          -75.201979,
          -75.216245,
          -75.215974,
          -75.214441,
          -75.223702,
          -75.225637,
          -75.213132,
          -75.232347,
          -75.232631,
          -75.228543,
          -75.234013,
          -75.228815,
          -75.234286,
          -75.22592,
          -75.237275,
          -75.237547,
          -75.240686,
          -75.238952,
          -75.242622,
          -75.239378,
          -75.241374,
          -75.239366,
          -75.239506,
          -75.240555,
          -75.241586,
          -75.24181,
          -75.242301,
          -75.2421,
          -75.242933,
          -75.24272,
          -75.243316,
          -75.24301,
          -75.242618,
          -75.241839,
          -75.241709,
          -75.240468,
          -75.240349,
          -75.239096,
          -75.238965,
          -75.249282,
          -75.248986,
          -75.237535,
          -75.237428,
          -75.250284,
          -75.250579,
          -75.246387,
          -75.246233,
          -75.251605,
          -75.2519,
          -75.236116,
          -75.235985,
          -75.252809,
          -75.253104,
          -75.244412,
          -75.278055,
          -75.244353,
          -75.254354,
          -75.254661,
          -75.234484,
          -75.243077,
          -75.234365,
          -75.255569,
          -75.24297,
          -75.255876,
          -75.257268,
          -75.257563,
          -75.241539,
          -75.232947,
          -75.241409,
          -75.23284,
          -75.260065,
          -75.209438,
          -75.2093,
          -75.211234,
          -75.211482,
          -75.21138,
          -75.212887,
          -75.213159,
          -75.212717,
          -75.212824,
          -75.214848,
          -75.215144,
          -75.223254,
          -75.223147,
          -75.22174,
          -75.221621,
          -75.220539,
          -75.220646,
          -75.220403,
          -75.220284,
          -75.228548,
          -75.2285,
          -75.227211,
          -75.227104,
          -75.225709,
          -75.219054,
          -75.22546,
          -75.218947,
          -75.224325,
          -75.224194,
          -75.217682,
          -75.207497,
          -75.207732,
          -75.209524,
          -75.209948,
          -75.212472,
          -75.260641,
          -75.262317,
          -75.240156,
          -75.240037,
          -75.238441,
          -75.213931,
          -75.213812,
          -75.215173,
          -75.215055,
          -75.216285,
          -75.216155,
          -75.217563,
          -75.260197,
          -75.244759,
          -75.244882,
          -75.266701,
          -75.269183,
          -75.26929,
          -75.272659,
          -75.273002,
          -75.274303,
          -75.275071,
          -75.282257,
          -75.222952,
          -75.222798,
          -75.22158,
          -75.223495,
          -75.221085,
          -75.225314,
          -75.221404,
          -75.227617,
          -75.218994,
          -75.219266,
          -75.229612,
          -75.231525,
          -75.216833,
          -75.217128,
          -75.211553,
          -75.211187,
          -75.23377,
          -75.213971,
          -75.21409,
          -75.21532,
          -75.215439,
          -75.240328,
          -75.237386,
          -75.241935,
          -75.235897,
          -75.244571,
          -75.246319,
          -75.22139,
          -75.220243,
          -75.220089,
          -75.219095,
          -75.218906,
          -75.243157,
          -75.242874,
          -75.241682,
          -75.24095,
          -75.244703,
          -75.241057,
          -75.244691,
          -75.238334,
          -75.21648,
          -75.216646,
          -75.280844,
          -75.280985,
          -75.260675,
          -75.263185,
          -75.245867,
          -75.246565,
          -75.247368,
          -75.247581,
          -75.282234,
          -75.286843,
          -75.286891,
          -75.249022,
          -75.249164,
          -75.250628,
          -75.250782,
          -75.252519,
          -75.252519,
          -75.253948,
          -75.254303,
          -75.255957,
          -75.288888,
          -75.289042,
          -75.259995,
          -75.2523,
          -75.2468,
          -75.2408,
          -75.233,
          -75.225,
          -75.2141,
          -75.202,
          -75.19132,
          -75.1835,
          -75.161389,
          -75.156612,
          -75.1488,
          -75.1436,
          -75.1404,
          -75.1362,
          -75.1335,
          -75.1322,
          -75.1273,
          -75.1222,
          -75.1135,
          -75.1065,
          -75.0961,
          -75.0889,
          -75.0842,
          -75.076944
         ],
         "name": "",
         "radius": 2,
         "subplot": "mapbox",
         "type": "densitymapbox"
        }
       ],
       "layout": {
        "coloraxis": {
         "colorscale": [
          [
           0,
           "#0d0887"
          ],
          [
           0.1111111111111111,
           "#46039f"
          ],
          [
           0.2222222222222222,
           "#7201a8"
          ],
          [
           0.3333333333333333,
           "#9c179e"
          ],
          [
           0.4444444444444444,
           "#bd3786"
          ],
          [
           0.5555555555555556,
           "#d8576b"
          ],
          [
           0.6666666666666666,
           "#ed7953"
          ],
          [
           0.7777777777777778,
           "#fb9f3a"
          ],
          [
           0.8888888888888888,
           "#fdca26"
          ],
          [
           1,
           "#f0f921"
          ]
         ]
        },
        "legend": {
         "tracegroupgap": 0
        },
        "mapbox": {
         "center": {
          "lat": 40,
          "lon": -75
         },
         "domain": {
          "x": [
           0,
           1
          ],
          "y": [
           0,
           1
          ]
         },
         "style": "open-street-map",
         "zoom": 10
        },
        "margin": {
         "t": 60
        },
        "template": {
         "data": {
          "bar": [
           {
            "error_x": {
             "color": "#2a3f5f"
            },
            "error_y": {
             "color": "#2a3f5f"
            },
            "marker": {
             "line": {
              "color": "#E5ECF6",
              "width": 0.5
             },
             "pattern": {
              "fillmode": "overlay",
              "size": 10,
              "solidity": 0.2
             }
            },
            "type": "bar"
           }
          ],
          "barpolar": [
           {
            "marker": {
             "line": {
              "color": "#E5ECF6",
              "width": 0.5
             },
             "pattern": {
              "fillmode": "overlay",
              "size": 10,
              "solidity": 0.2
             }
            },
            "type": "barpolar"
           }
          ],
          "carpet": [
           {
            "aaxis": {
             "endlinecolor": "#2a3f5f",
             "gridcolor": "white",
             "linecolor": "white",
             "minorgridcolor": "white",
             "startlinecolor": "#2a3f5f"
            },
            "baxis": {
             "endlinecolor": "#2a3f5f",
             "gridcolor": "white",
             "linecolor": "white",
             "minorgridcolor": "white",
             "startlinecolor": "#2a3f5f"
            },
            "type": "carpet"
           }
          ],
          "choropleth": [
           {
            "colorbar": {
             "outlinewidth": 0,
             "ticks": ""
            },
            "type": "choropleth"
           }
          ],
          "contour": [
           {
            "colorbar": {
             "outlinewidth": 0,
             "ticks": ""
            },
            "colorscale": [
             [
              0,
              "#0d0887"
             ],
             [
              0.1111111111111111,
              "#46039f"
             ],
             [
              0.2222222222222222,
              "#7201a8"
             ],
             [
              0.3333333333333333,
              "#9c179e"
             ],
             [
              0.4444444444444444,
              "#bd3786"
             ],
             [
              0.5555555555555556,
              "#d8576b"
             ],
             [
              0.6666666666666666,
              "#ed7953"
             ],
             [
              0.7777777777777778,
              "#fb9f3a"
             ],
             [
              0.8888888888888888,
              "#fdca26"
             ],
             [
              1,
              "#f0f921"
             ]
            ],
            "type": "contour"
           }
          ],
          "contourcarpet": [
           {
            "colorbar": {
             "outlinewidth": 0,
             "ticks": ""
            },
            "type": "contourcarpet"
           }
          ],
          "heatmap": [
           {
            "colorbar": {
             "outlinewidth": 0,
             "ticks": ""
            },
            "colorscale": [
             [
              0,
              "#0d0887"
             ],
             [
              0.1111111111111111,
              "#46039f"
             ],
             [
              0.2222222222222222,
              "#7201a8"
             ],
             [
              0.3333333333333333,
              "#9c179e"
             ],
             [
              0.4444444444444444,
              "#bd3786"
             ],
             [
              0.5555555555555556,
              "#d8576b"
             ],
             [
              0.6666666666666666,
              "#ed7953"
             ],
             [
              0.7777777777777778,
              "#fb9f3a"
             ],
             [
              0.8888888888888888,
              "#fdca26"
             ],
             [
              1,
              "#f0f921"
             ]
            ],
            "type": "heatmap"
           }
          ],
          "heatmapgl": [
           {
            "colorbar": {
             "outlinewidth": 0,
             "ticks": ""
            },
            "colorscale": [
             [
              0,
              "#0d0887"
             ],
             [
              0.1111111111111111,
              "#46039f"
             ],
             [
              0.2222222222222222,
              "#7201a8"
             ],
             [
              0.3333333333333333,
              "#9c179e"
             ],
             [
              0.4444444444444444,
              "#bd3786"
             ],
             [
              0.5555555555555556,
              "#d8576b"
             ],
             [
              0.6666666666666666,
              "#ed7953"
             ],
             [
              0.7777777777777778,
              "#fb9f3a"
             ],
             [
              0.8888888888888888,
              "#fdca26"
             ],
             [
              1,
              "#f0f921"
             ]
            ],
            "type": "heatmapgl"
           }
          ],
          "histogram": [
           {
            "marker": {
             "pattern": {
              "fillmode": "overlay",
              "size": 10,
              "solidity": 0.2
             }
            },
            "type": "histogram"
           }
          ],
          "histogram2d": [
           {
            "colorbar": {
             "outlinewidth": 0,
             "ticks": ""
            },
            "colorscale": [
             [
              0,
              "#0d0887"
             ],
             [
              0.1111111111111111,
              "#46039f"
             ],
             [
              0.2222222222222222,
              "#7201a8"
             ],
             [
              0.3333333333333333,
              "#9c179e"
             ],
             [
              0.4444444444444444,
              "#bd3786"
             ],
             [
              0.5555555555555556,
              "#d8576b"
             ],
             [
              0.6666666666666666,
              "#ed7953"
             ],
             [
              0.7777777777777778,
              "#fb9f3a"
             ],
             [
              0.8888888888888888,
              "#fdca26"
             ],
             [
              1,
              "#f0f921"
             ]
            ],
            "type": "histogram2d"
           }
          ],
          "histogram2dcontour": [
           {
            "colorbar": {
             "outlinewidth": 0,
             "ticks": ""
            },
            "colorscale": [
             [
              0,
              "#0d0887"
             ],
             [
              0.1111111111111111,
              "#46039f"
             ],
             [
              0.2222222222222222,
              "#7201a8"
             ],
             [
              0.3333333333333333,
              "#9c179e"
             ],
             [
              0.4444444444444444,
              "#bd3786"
             ],
             [
              0.5555555555555556,
              "#d8576b"
             ],
             [
              0.6666666666666666,
              "#ed7953"
             ],
             [
              0.7777777777777778,
              "#fb9f3a"
             ],
             [
              0.8888888888888888,
              "#fdca26"
             ],
             [
              1,
              "#f0f921"
             ]
            ],
            "type": "histogram2dcontour"
           }
          ],
          "mesh3d": [
           {
            "colorbar": {
             "outlinewidth": 0,
             "ticks": ""
            },
            "type": "mesh3d"
           }
          ],
          "parcoords": [
           {
            "line": {
             "colorbar": {
              "outlinewidth": 0,
              "ticks": ""
             }
            },
            "type": "parcoords"
           }
          ],
          "pie": [
           {
            "automargin": true,
            "type": "pie"
           }
          ],
          "scatter": [
           {
            "fillpattern": {
             "fillmode": "overlay",
             "size": 10,
             "solidity": 0.2
            },
            "type": "scatter"
           }
          ],
          "scatter3d": [
           {
            "line": {
             "colorbar": {
              "outlinewidth": 0,
              "ticks": ""
             }
            },
            "marker": {
             "colorbar": {
              "outlinewidth": 0,
              "ticks": ""
             }
            },
            "type": "scatter3d"
           }
          ],
          "scattercarpet": [
           {
            "marker": {
             "colorbar": {
              "outlinewidth": 0,
              "ticks": ""
             }
            },
            "type": "scattercarpet"
           }
          ],
          "scattergeo": [
           {
            "marker": {
             "colorbar": {
              "outlinewidth": 0,
              "ticks": ""
             }
            },
            "type": "scattergeo"
           }
          ],
          "scattergl": [
           {
            "marker": {
             "colorbar": {
              "outlinewidth": 0,
              "ticks": ""
             }
            },
            "type": "scattergl"
           }
          ],
          "scattermapbox": [
           {
            "marker": {
             "colorbar": {
              "outlinewidth": 0,
              "ticks": ""
             }
            },
            "type": "scattermapbox"
           }
          ],
          "scatterpolar": [
           {
            "marker": {
             "colorbar": {
              "outlinewidth": 0,
              "ticks": ""
             }
            },
            "type": "scatterpolar"
           }
          ],
          "scatterpolargl": [
           {
            "marker": {
             "colorbar": {
              "outlinewidth": 0,
              "ticks": ""
             }
            },
            "type": "scatterpolargl"
           }
          ],
          "scatterternary": [
           {
            "marker": {
             "colorbar": {
              "outlinewidth": 0,
              "ticks": ""
             }
            },
            "type": "scatterternary"
           }
          ],
          "surface": [
           {
            "colorbar": {
             "outlinewidth": 0,
             "ticks": ""
            },
            "colorscale": [
             [
              0,
              "#0d0887"
             ],
             [
              0.1111111111111111,
              "#46039f"
             ],
             [
              0.2222222222222222,
              "#7201a8"
             ],
             [
              0.3333333333333333,
              "#9c179e"
             ],
             [
              0.4444444444444444,
              "#bd3786"
             ],
             [
              0.5555555555555556,
              "#d8576b"
             ],
             [
              0.6666666666666666,
              "#ed7953"
             ],
             [
              0.7777777777777778,
              "#fb9f3a"
             ],
             [
              0.8888888888888888,
              "#fdca26"
             ],
             [
              1,
              "#f0f921"
             ]
            ],
            "type": "surface"
           }
          ],
          "table": [
           {
            "cells": {
             "fill": {
              "color": "#EBF0F8"
             },
             "line": {
              "color": "white"
             }
            },
            "header": {
             "fill": {
              "color": "#C8D4E3"
             },
             "line": {
              "color": "white"
             }
            },
            "type": "table"
           }
          ]
         },
         "layout": {
          "annotationdefaults": {
           "arrowcolor": "#2a3f5f",
           "arrowhead": 0,
           "arrowwidth": 1
          },
          "autotypenumbers": "strict",
          "coloraxis": {
           "colorbar": {
            "outlinewidth": 0,
            "ticks": ""
           }
          },
          "colorscale": {
           "diverging": [
            [
             0,
             "#8e0152"
            ],
            [
             0.1,
             "#c51b7d"
            ],
            [
             0.2,
             "#de77ae"
            ],
            [
             0.3,
             "#f1b6da"
            ],
            [
             0.4,
             "#fde0ef"
            ],
            [
             0.5,
             "#f7f7f7"
            ],
            [
             0.6,
             "#e6f5d0"
            ],
            [
             0.7,
             "#b8e186"
            ],
            [
             0.8,
             "#7fbc41"
            ],
            [
             0.9,
             "#4d9221"
            ],
            [
             1,
             "#276419"
            ]
           ],
           "sequential": [
            [
             0,
             "#0d0887"
            ],
            [
             0.1111111111111111,
             "#46039f"
            ],
            [
             0.2222222222222222,
             "#7201a8"
            ],
            [
             0.3333333333333333,
             "#9c179e"
            ],
            [
             0.4444444444444444,
             "#bd3786"
            ],
            [
             0.5555555555555556,
             "#d8576b"
            ],
            [
             0.6666666666666666,
             "#ed7953"
            ],
            [
             0.7777777777777778,
             "#fb9f3a"
            ],
            [
             0.8888888888888888,
             "#fdca26"
            ],
            [
             1,
             "#f0f921"
            ]
           ],
           "sequentialminus": [
            [
             0,
             "#0d0887"
            ],
            [
             0.1111111111111111,
             "#46039f"
            ],
            [
             0.2222222222222222,
             "#7201a8"
            ],
            [
             0.3333333333333333,
             "#9c179e"
            ],
            [
             0.4444444444444444,
             "#bd3786"
            ],
            [
             0.5555555555555556,
             "#d8576b"
            ],
            [
             0.6666666666666666,
             "#ed7953"
            ],
            [
             0.7777777777777778,
             "#fb9f3a"
            ],
            [
             0.8888888888888888,
             "#fdca26"
            ],
            [
             1,
             "#f0f921"
            ]
           ]
          },
          "colorway": [
           "#636efa",
           "#EF553B",
           "#00cc96",
           "#ab63fa",
           "#FFA15A",
           "#19d3f3",
           "#FF6692",
           "#B6E880",
           "#FF97FF",
           "#FECB52"
          ],
          "font": {
           "color": "#2a3f5f"
          },
          "geo": {
           "bgcolor": "white",
           "lakecolor": "white",
           "landcolor": "#E5ECF6",
           "showlakes": true,
           "showland": true,
           "subunitcolor": "white"
          },
          "hoverlabel": {
           "align": "left"
          },
          "hovermode": "closest",
          "mapbox": {
           "style": "light"
          },
          "paper_bgcolor": "white",
          "plot_bgcolor": "#E5ECF6",
          "polar": {
           "angularaxis": {
            "gridcolor": "white",
            "linecolor": "white",
            "ticks": ""
           },
           "bgcolor": "#E5ECF6",
           "radialaxis": {
            "gridcolor": "white",
            "linecolor": "white",
            "ticks": ""
           }
          },
          "scene": {
           "xaxis": {
            "backgroundcolor": "#E5ECF6",
            "gridcolor": "white",
            "gridwidth": 2,
            "linecolor": "white",
            "showbackground": true,
            "ticks": "",
            "zerolinecolor": "white"
           },
           "yaxis": {
            "backgroundcolor": "#E5ECF6",
            "gridcolor": "white",
            "gridwidth": 2,
            "linecolor": "white",
            "showbackground": true,
            "ticks": "",
            "zerolinecolor": "white"
           },
           "zaxis": {
            "backgroundcolor": "#E5ECF6",
            "gridcolor": "white",
            "gridwidth": 2,
            "linecolor": "white",
            "showbackground": true,
            "ticks": "",
            "zerolinecolor": "white"
           }
          },
          "shapedefaults": {
           "line": {
            "color": "#2a3f5f"
           }
          },
          "ternary": {
           "aaxis": {
            "gridcolor": "white",
            "linecolor": "white",
            "ticks": ""
           },
           "baxis": {
            "gridcolor": "white",
            "linecolor": "white",
            "ticks": ""
           },
           "bgcolor": "#E5ECF6",
           "caxis": {
            "gridcolor": "white",
            "linecolor": "white",
            "ticks": ""
           }
          },
          "title": {
           "x": 0.05
          },
          "xaxis": {
           "automargin": true,
           "gridcolor": "white",
           "linecolor": "white",
           "ticks": "",
           "title": {
            "standoff": 15
           },
           "zerolinecolor": "white",
           "zerolinewidth": 2
          },
          "yaxis": {
           "automargin": true,
           "gridcolor": "white",
           "linecolor": "white",
           "ticks": "",
           "title": {
            "standoff": 15
           },
           "zerolinecolor": "white",
           "zerolinewidth": 2
          }
         }
        }
       }
      }
     },
     "metadata": {},
     "output_type": "display_data"
    }
   ],
   "source": [
    "fig = px.density_mapbox(\n",
    "    df_stops_unique,\n",
    "    lat='location_lat',\n",
    "    lon='location_lon',\n",
    "    radius=2,\n",
    "    center=dict(lat=40, lon=-75),\n",
    "    zoom=10,\n",
    "    mapbox_style=\"open-street-map\"\n",
    ")\n",
    "\n",
    "fig.show()"
   ]
  },
  {
   "cell_type": "code",
   "execution_count": 16,
   "metadata": {},
   "outputs": [],
   "source": [
    "trolley_coords = list(zip(df_stops_unique.location_lat, df_stops_unique.location_lon))  # (latitude, longitude)\n",
    "\n",
    "def min_distance_to_trolley(row):\n",
    "    point = (row['latitude'], row['longitude'])\n",
    "    distances = [geodesic(point, trolley).km for trolley in trolley_coords]\n",
    "    return min(distances)\n",
    "\n",
    "df['trolley_distance_km'] = df.apply(min_distance_to_trolley, axis=1)"
   ]
  },
  {
   "cell_type": "code",
   "execution_count": 19,
   "metadata": {},
   "outputs": [
    {
     "data": {
      "image/png": "[encoded data removed]",
      "text/plain": [
       "<Figure size 640x480 with 1 Axes>"
      ]
     },
     "metadata": {},
     "output_type": "display_data"
    }
   ],
   "source": [
    "plt.scatter(df['trolley_distance_km'], df['city_hall_distance_km'],s=10,        # Marker size, try 5-20 depending on density\n",
    "    alpha=0.5)\n",
    "plt.xlabel('Distance to Nearest Trolley (km)')\n",
    "plt.ylabel('Distance to City Hall (km)')\n",
    "plt.title('Trolley Distance vs City Hall Distance')\n",
    "plt.show()"
   ]
  },
  {
   "cell_type": "code",
   "execution_count": 20,
   "metadata": {},
   "outputs": [],
   "source": [
    "all_features=['time','reviews','trolley_distance_km','city_hall_distance_km','price']"
   ]
  },
  {
   "cell_type": "code",
   "execution_count": 21,
   "metadata": {},
   "outputs": [],
   "source": [
    "from sklearn.linear_model import Ridge, Lasso\n",
    "from sklearn.ensemble import RandomForestRegressor\n",
    "from sklearn.pipeline import Pipeline\n",
    "from sklearn.preprocessing import StandardScaler\n",
    "from sklearn.linear_model import LassoCV\n",
    "from sklearn.linear_model import RidgeCV\n",
    "from sklearn.metrics import mean_squared_error\n",
    "df_train, df_test = train_test_split(df,test_size=.2,random_state=42,stratify=df.category)"
   ]
  },
  {
   "cell_type": "code",
   "execution_count": null,
   "metadata": {},
   "outputs": [],
   "source": [
    "X = df_train[all_features]  # Features\n",
    "y = df_train['rating']  # Target\n",
    "\n",
    "# Split the data into training and test sets (optional, can be done inside bootstrap)\n",
    "X_train, X_test, y_train, y_test = train_test_split(X, y, test_size=0.2, random_state=42)\n",
    "\n",
    "# Function to perform bootstrap cross-validation\n",
    "def bootstrap_cv(X_train, y_train, model, n_iterations=len(df_train)//5):\n",
    "    r2_scores = []\n",
    "    mse_scores = []\n",
    "    \n",
    "    for _ in range(n_iterations):\n",
    "        # Bootstrap sampling (sampling with replacement)\n",
    "        indices = np.random.choice(range(len(X_train)), size=len(X_train), replace=True)\n",
    "        X_bootstrap = X_train.iloc[indices]\n",
    "        y_bootstrap = y_train.iloc[indices]\n",
    "        \n",
    "        # Train the model\n",
    "        model.fit(X_bootstrap, y_bootstrap)\n",
    "        \n",
    "        # Out-of-bag samples (those not included in the bootstrap sample)\n",
    "        oob_indices = np.setdiff1d(range(len(X_train)), indices)\n",
    "        X_oob = X_train.iloc[oob_indices]\n",
    "        y_oob = y_train.iloc[oob_indices]\n",
    "        \n",
    "        # Make predictions and calculate performance\n",
    "        y_pred = model.predict(X_oob)\n",
    "        \n",
    "        # R2 score\n",
    "        r2_scores.append(model.score(X_oob, y_oob))\n",
    "        \n",
    "        # Mean Squared Error\n",
    "        mse_scores.append(mean_squared_error(y_oob, y_pred))\n",
    "    \n",
    "    return np.mean(r2_scores), np.mean(mse_scores)\n",
    "\n",
    "# Define models\n",
    "rf_model = Pipeline([\n",
    "    ('scaler', StandardScaler()),\n",
    "    ('rf', RandomForestRegressor(n_estimators=100, random_state=42))\n",
    "])\n",
    "\n",
    "lasso_model = Pipeline([\n",
    "    ('scaler', StandardScaler()),\n",
    "    ('lasso', LassoCV(cv=5, max_iter=10000))\n",
    "])\n",
    "\n",
    "# Perform Bootstrap Cross-Validation for Random Forest\n",
    "rf_r2, rf_mse = bootstrap_cv(X_train, y_train, rf_model)\n",
    "print(f\"Random Forest (Bootstrap CV) - Average R²: {rf_r2:.4f}\")\n",
    "print(f\"Random Forest (Bootstrap CV) - Average MSE: {rf_mse:.4f}\")\n",
    "\n",
    "# Perform Bootstrap Cross-Validation for Lasso\n",
    "lasso_r2, lasso_mse = bootstrap_cv(X_train, y_train, lasso_model)\n",
    "print(f\"Lasso (Bootstrap CV) - Average R²: {lasso_r2:.4f}\")\n",
    "print(f\"Lasso (Bootstrap CV) - Average MSE: {lasso_mse:.4f}\") \n",
    "#abouve is the bootstrap method, which did not work well in our model, \n",
    "# thus we only list our attempt without using it in this model"
   ]
  },
  {
   "cell_type": "code",
   "execution_count": 26,
   "metadata": {},
   "outputs": [],
   "source": [
    "from sklearn.model_selection import cross_val_score\n",
    "from sklearn.preprocessing import PolynomialFeatures\n",
    "from sklearn.metrics import make_scorer, mean_squared_error"
   ]
  },
  {
   "cell_type": "code",
   "execution_count": 28,
   "metadata": {},
   "outputs": [
    {
     "name": "stdout",
     "output_type": "stream",
     "text": [
      "🔍 Cross-validation Scores (R² & MSE):\n",
      "\n",
      "RidgeCV:\n",
      "   Avg R²  : 0.1778\n",
      "   R² scores: [0.1919 0.0999 0.1994 0.1974 0.2006]\n",
      "   Avg MSE : 0.1655\n",
      "   MSE scores: [0.1529 0.1839 0.155  0.1757 0.1601]\n",
      "\n",
      "LassoCV:\n",
      "   Avg R²  : 0.1426\n",
      "   R² scores: [0.1548 0.103  0.1453 0.1781 0.1319]\n",
      "   Avg MSE : 0.1725\n",
      "   MSE scores: [0.1599 0.1832 0.1655 0.1799 0.1739]\n",
      "\n",
      "Random Forest:\n",
      "   Avg R²  : 0.2110\n",
      "   R² scores: [0.2753 0.124  0.1408 0.2761 0.239 ]\n",
      "   Avg MSE : 0.1587\n",
      "   MSE scores: [0.1371 0.1789 0.1664 0.1584 0.1524]\n",
      "\n"
     ]
    }
   ],
   "source": [
    "X_raw = df_train[all_features].copy()\n",
    "y = df_train['rating']\n",
    "\n",
    "# Square root transformation (clip negatives)\n",
    "X_sqrt = np.sqrt(X_raw.clip(lower=0))\n",
    "X_sqrt.columns = [f'sqrt_{col}' for col in X_sqrt.columns]\n",
    "\n",
    "# Polynomial degree-2 features\n",
    "poly = PolynomialFeatures(degree=2, include_bias=False)\n",
    "X_poly = pd.DataFrame(poly.fit_transform(X_raw), columns=poly.get_feature_names_out(all_features))\n",
    "\n",
    "# Combine polynomial + sqrt\n",
    "X_combined = pd.concat([X_poly.reset_index(drop=True), X_sqrt.reset_index(drop=True)], axis=1)\n",
    "\n",
    "# --- Define Models ---\n",
    "ridge_pipe = Pipeline([\n",
    "    ('scaler', StandardScaler()),\n",
    "    ('ridge', RidgeCV(alphas=[0.01, 0.1, 1.0, 10.0, 100.0]))\n",
    "])\n",
    "\n",
    "lasso_pipe = Pipeline([\n",
    "    ('scaler', StandardScaler()),\n",
    "    ('lasso', LassoCV(alphas=[0.01, 0.1, 1.0, 10.0, 100.0], max_iter=10000))\n",
    "])\n",
    "\n",
    "rf_pipe = Pipeline([\n",
    "    ('rf', RandomForestRegressor(n_estimators=100, random_state=42))\n",
    "])\n",
    "\n",
    "models = {\n",
    "    'RidgeCV': ridge_pipe,\n",
    "    'LassoCV': lasso_pipe,\n",
    "    'Random Forest': rf_pipe,\n",
    "}\n",
    "\n",
    "# --- Evaluate Models ---\n",
    "print(\"🔍 Cross-validation Scores (R² & MSE):\\n\")\n",
    "\n",
    "for name, model in models.items():\n",
    "    r2_scores = cross_val_score(model, X_combined, y, cv=5, scoring='r2')\n",
    "    mse_scores = cross_val_score(model, X_combined, y, cv=5, scoring=make_scorer(mean_squared_error))\n",
    "    \n",
    "    print(f\"{name}:\")\n",
    "    print(f\"   Avg R²  : {r2_scores.mean():.4f}\")\n",
    "    print(f\"   R² scores: {np.round(r2_scores, 4)}\")\n",
    "    print(f\"   Avg MSE : {mse_scores.mean():.4f}\")\n",
    "    print(f\"   MSE scores: {np.round(mse_scores, 4)}\\n\")"
   ]
  },
  {
   "cell_type": "code",
   "execution_count": 29,
   "metadata": {},
   "outputs": [
    {
     "data": {
      "text/html": [
       "<style>#sk-container-id-1 {\n",
       "  /* Definition of color scheme common for light and dark mode */\n",
       "  --sklearn-color-text: #000;\n",
       "  --sklearn-color-text-muted: #666;\n",
       "  --sklearn-color-line: gray;\n",
       "  /* Definition of color scheme for unfitted estimators */\n",
       "  --sklearn-color-unfitted-level-0: #fff5e6;\n",
       "  --sklearn-color-unfitted-level-1: #f6e4d2;\n",
       "  --sklearn-color-unfitted-level-2: #ffe0b3;\n",
       "  --sklearn-color-unfitted-level-3: chocolate;\n",
       "  /* Definition of color scheme for fitted estimators */\n",
       "  --sklearn-color-fitted-level-0: #f0f8ff;\n",
       "  --sklearn-color-fitted-level-1: #d4ebff;\n",
       "  --sklearn-color-fitted-level-2: #b3dbfd;\n",
       "  --sklearn-color-fitted-level-3: cornflowerblue;\n",
       "\n",
       "  /* Specific color for light theme */\n",
       "  --sklearn-color-text-on-default-background: var(--sg-text-color, var(--theme-code-foreground, var(--jp-content-font-color1, black)));\n",
       "  --sklearn-color-background: var(--sg-background-color, var(--theme-background, var(--jp-layout-color0, white)));\n",
       "  --sklearn-color-border-box: var(--sg-text-color, var(--theme-code-foreground, var(--jp-content-font-color1, black)));\n",
       "  --sklearn-color-icon: #696969;\n",
       "\n",
       "  @media (prefers-color-scheme: dark) {\n",
       "    /* Redefinition of color scheme for dark theme */\n",
       "    --sklearn-color-text-on-default-background: var(--sg-text-color, var(--theme-code-foreground, var(--jp-content-font-color1, white)));\n",
       "    --sklearn-color-background: var(--sg-background-color, var(--theme-background, var(--jp-layout-color0, #111)));\n",
       "    --sklearn-color-border-box: var(--sg-text-color, var(--theme-code-foreground, var(--jp-content-font-color1, white)));\n",
       "    --sklearn-color-icon: #878787;\n",
       "  }\n",
       "}\n",
       "\n",
       "#sk-container-id-1 {\n",
       "  color: var(--sklearn-color-text);\n",
       "}\n",
       "\n",
       "#sk-container-id-1 pre {\n",
       "  padding: 0;\n",
       "}\n",
       "\n",
       "#sk-container-id-1 input.sk-hidden--visually {\n",
       "  border: 0;\n",
       "  clip: rect(1px 1px 1px 1px);\n",
       "  clip: rect(1px, 1px, 1px, 1px);\n",
       "  height: 1px;\n",
       "  margin: -1px;\n",
       "  overflow: hidden;\n",
       "  padding: 0;\n",
       "  position: absolute;\n",
       "  width: 1px;\n",
       "}\n",
       "\n",
       "#sk-container-id-1 div.sk-dashed-wrapped {\n",
       "  border: 1px dashed var(--sklearn-color-line);\n",
       "  margin: 0 0.4em 0.5em 0.4em;\n",
       "  box-sizing: border-box;\n",
       "  padding-bottom: 0.4em;\n",
       "  background-color: var(--sklearn-color-background);\n",
       "}\n",
       "\n",
       "#sk-container-id-1 div.sk-container {\n",
       "  /* jupyter's `normalize.less` sets `[hidden] { display: none; }`\n",
       "     but bootstrap.min.css set `[hidden] { display: none !important; }`\n",
       "     so we also need the `!important` here to be able to override the\n",
       "     default hidden behavior on the sphinx rendered scikit-learn.org.\n",
       "     See: https://github.com/scikit-learn/scikit-learn/issues/21755 */\n",
       "  display: inline-block !important;\n",
       "  position: relative;\n",
       "}\n",
       "\n",
       "#sk-container-id-1 div.sk-text-repr-fallback {\n",
       "  display: none;\n",
       "}\n",
       "\n",
       "div.sk-parallel-item,\n",
       "div.sk-serial,\n",
       "div.sk-item {\n",
       "  /* draw centered vertical line to link estimators */\n",
       "  background-image: linear-gradient(var(--sklearn-color-text-on-default-background), var(--sklearn-color-text-on-default-background));\n",
       "  background-size: 2px 100%;\n",
       "  background-repeat: no-repeat;\n",
       "  background-position: center center;\n",
       "}\n",
       "\n",
       "/* Parallel-specific style estimator block */\n",
       "\n",
       "#sk-container-id-1 div.sk-parallel-item::after {\n",
       "  content: \"\";\n",
       "  width: 100%;\n",
       "  border-bottom: 2px solid var(--sklearn-color-text-on-default-background);\n",
       "  flex-grow: 1;\n",
       "}\n",
       "\n",
       "#sk-container-id-1 div.sk-parallel {\n",
       "  display: flex;\n",
       "  align-items: stretch;\n",
       "  justify-content: center;\n",
       "  background-color: var(--sklearn-color-background);\n",
       "  position: relative;\n",
       "}\n",
       "\n",
       "#sk-container-id-1 div.sk-parallel-item {\n",
       "  display: flex;\n",
       "  flex-direction: column;\n",
       "}\n",
       "\n",
       "#sk-container-id-1 div.sk-parallel-item:first-child::after {\n",
       "  align-self: flex-end;\n",
       "  width: 50%;\n",
       "}\n",
       "\n",
       "#sk-container-id-1 div.sk-parallel-item:last-child::after {\n",
       "  align-self: flex-start;\n",
       "  width: 50%;\n",
       "}\n",
       "\n",
       "#sk-container-id-1 div.sk-parallel-item:only-child::after {\n",
       "  width: 0;\n",
       "}\n",
       "\n",
       "/* Serial-specific style estimator block */\n",
       "\n",
       "#sk-container-id-1 div.sk-serial {\n",
       "  display: flex;\n",
       "  flex-direction: column;\n",
       "  align-items: center;\n",
       "  background-color: var(--sklearn-color-background);\n",
       "  padding-right: 1em;\n",
       "  padding-left: 1em;\n",
       "}\n",
       "\n",
       "\n",
       "/* Toggleable style: style used for estimator/Pipeline/ColumnTransformer box that is\n",
       "clickable and can be expanded/collapsed.\n",
       "- Pipeline and ColumnTransformer use this feature and define the default style\n",
       "- Estimators will overwrite some part of the style using the `sk-estimator` class\n",
       "*/\n",
       "\n",
       "/* Pipeline and ColumnTransformer style (default) */\n",
       "\n",
       "#sk-container-id-1 div.sk-toggleable {\n",
       "  /* Default theme specific background. It is overwritten whether we have a\n",
       "  specific estimator or a Pipeline/ColumnTransformer */\n",
       "  background-color: var(--sklearn-color-background);\n",
       "}\n",
       "\n",
       "/* Toggleable label */\n",
       "#sk-container-id-1 label.sk-toggleable__label {\n",
       "  cursor: pointer;\n",
       "  display: flex;\n",
       "  width: 100%;\n",
       "  margin-bottom: 0;\n",
       "  padding: 0.5em;\n",
       "  box-sizing: border-box;\n",
       "  text-align: center;\n",
       "  align-items: start;\n",
       "  justify-content: space-between;\n",
       "  gap: 0.5em;\n",
       "}\n",
       "\n",
       "#sk-container-id-1 label.sk-toggleable__label .caption {\n",
       "  font-size: 0.6rem;\n",
       "  font-weight: lighter;\n",
       "  color: var(--sklearn-color-text-muted);\n",
       "}\n",
       "\n",
       "#sk-container-id-1 label.sk-toggleable__label-arrow:before {\n",
       "  /* Arrow on the left of the label */\n",
       "  content: \"▸\";\n",
       "  float: left;\n",
       "  margin-right: 0.25em;\n",
       "  color: var(--sklearn-color-icon);\n",
       "}\n",
       "\n",
       "#sk-container-id-1 label.sk-toggleable__label-arrow:hover:before {\n",
       "  color: var(--sklearn-color-text);\n",
       "}\n",
       "\n",
       "/* Toggleable content - dropdown */\n",
       "\n",
       "#sk-container-id-1 div.sk-toggleable__content {\n",
       "  max-height: 0;\n",
       "  max-width: 0;\n",
       "  overflow: hidden;\n",
       "  text-align: left;\n",
       "  /* unfitted */\n",
       "  background-color: var(--sklearn-color-unfitted-level-0);\n",
       "}\n",
       "\n",
       "#sk-container-id-1 div.sk-toggleable__content.fitted {\n",
       "  /* fitted */\n",
       "  background-color: var(--sklearn-color-fitted-level-0);\n",
       "}\n",
       "\n",
       "#sk-container-id-1 div.sk-toggleable__content pre {\n",
       "  margin: 0.2em;\n",
       "  border-radius: 0.25em;\n",
       "  color: var(--sklearn-color-text);\n",
       "  /* unfitted */\n",
       "  background-color: var(--sklearn-color-unfitted-level-0);\n",
       "}\n",
       "\n",
       "#sk-container-id-1 div.sk-toggleable__content.fitted pre {\n",
       "  /* unfitted */\n",
       "  background-color: var(--sklearn-color-fitted-level-0);\n",
       "}\n",
       "\n",
       "#sk-container-id-1 input.sk-toggleable__control:checked~div.sk-toggleable__content {\n",
       "  /* Expand drop-down */\n",
       "  max-height: 200px;\n",
       "  max-width: 100%;\n",
       "  overflow: auto;\n",
       "}\n",
       "\n",
       "#sk-container-id-1 input.sk-toggleable__control:checked~label.sk-toggleable__label-arrow:before {\n",
       "  content: \"▾\";\n",
       "}\n",
       "\n",
       "/* Pipeline/ColumnTransformer-specific style */\n",
       "\n",
       "#sk-container-id-1 div.sk-label input.sk-toggleable__control:checked~label.sk-toggleable__label {\n",
       "  color: var(--sklearn-color-text);\n",
       "  background-color: var(--sklearn-color-unfitted-level-2);\n",
       "}\n",
       "\n",
       "#sk-container-id-1 div.sk-label.fitted input.sk-toggleable__control:checked~label.sk-toggleable__label {\n",
       "  background-color: var(--sklearn-color-fitted-level-2);\n",
       "}\n",
       "\n",
       "/* Estimator-specific style */\n",
       "\n",
       "/* Colorize estimator box */\n",
       "#sk-container-id-1 div.sk-estimator input.sk-toggleable__control:checked~label.sk-toggleable__label {\n",
       "  /* unfitted */\n",
       "  background-color: var(--sklearn-color-unfitted-level-2);\n",
       "}\n",
       "\n",
       "#sk-container-id-1 div.sk-estimator.fitted input.sk-toggleable__control:checked~label.sk-toggleable__label {\n",
       "  /* fitted */\n",
       "  background-color: var(--sklearn-color-fitted-level-2);\n",
       "}\n",
       "\n",
       "#sk-container-id-1 div.sk-label label.sk-toggleable__label,\n",
       "#sk-container-id-1 div.sk-label label {\n",
       "  /* The background is the default theme color */\n",
       "  color: var(--sklearn-color-text-on-default-background);\n",
       "}\n",
       "\n",
       "/* On hover, darken the color of the background */\n",
       "#sk-container-id-1 div.sk-label:hover label.sk-toggleable__label {\n",
       "  color: var(--sklearn-color-text);\n",
       "  background-color: var(--sklearn-color-unfitted-level-2);\n",
       "}\n",
       "\n",
       "/* Label box, darken color on hover, fitted */\n",
       "#sk-container-id-1 div.sk-label.fitted:hover label.sk-toggleable__label.fitted {\n",
       "  color: var(--sklearn-color-text);\n",
       "  background-color: var(--sklearn-color-fitted-level-2);\n",
       "}\n",
       "\n",
       "/* Estimator label */\n",
       "\n",
       "#sk-container-id-1 div.sk-label label {\n",
       "  font-family: monospace;\n",
       "  font-weight: bold;\n",
       "  display: inline-block;\n",
       "  line-height: 1.2em;\n",
       "}\n",
       "\n",
       "#sk-container-id-1 div.sk-label-container {\n",
       "  text-align: center;\n",
       "}\n",
       "\n",
       "/* Estimator-specific */\n",
       "#sk-container-id-1 div.sk-estimator {\n",
       "  font-family: monospace;\n",
       "  border: 1px dotted var(--sklearn-color-border-box);\n",
       "  border-radius: 0.25em;\n",
       "  box-sizing: border-box;\n",
       "  margin-bottom: 0.5em;\n",
       "  /* unfitted */\n",
       "  background-color: var(--sklearn-color-unfitted-level-0);\n",
       "}\n",
       "\n",
       "#sk-container-id-1 div.sk-estimator.fitted {\n",
       "  /* fitted */\n",
       "  background-color: var(--sklearn-color-fitted-level-0);\n",
       "}\n",
       "\n",
       "/* on hover */\n",
       "#sk-container-id-1 div.sk-estimator:hover {\n",
       "  /* unfitted */\n",
       "  background-color: var(--sklearn-color-unfitted-level-2);\n",
       "}\n",
       "\n",
       "#sk-container-id-1 div.sk-estimator.fitted:hover {\n",
       "  /* fitted */\n",
       "  background-color: var(--sklearn-color-fitted-level-2);\n",
       "}\n",
       "\n",
       "/* Specification for estimator info (e.g. \"i\" and \"?\") */\n",
       "\n",
       "/* Common style for \"i\" and \"?\" */\n",
       "\n",
       ".sk-estimator-doc-link,\n",
       "a:link.sk-estimator-doc-link,\n",
       "a:visited.sk-estimator-doc-link {\n",
       "  float: right;\n",
       "  font-size: smaller;\n",
       "  line-height: 1em;\n",
       "  font-family: monospace;\n",
       "  background-color: var(--sklearn-color-background);\n",
       "  border-radius: 1em;\n",
       "  height: 1em;\n",
       "  width: 1em;\n",
       "  text-decoration: none !important;\n",
       "  margin-left: 0.5em;\n",
       "  text-align: center;\n",
       "  /* unfitted */\n",
       "  border: var(--sklearn-color-unfitted-level-1) 1pt solid;\n",
       "  color: var(--sklearn-color-unfitted-level-1);\n",
       "}\n",
       "\n",
       ".sk-estimator-doc-link.fitted,\n",
       "a:link.sk-estimator-doc-link.fitted,\n",
       "a:visited.sk-estimator-doc-link.fitted {\n",
       "  /* fitted */\n",
       "  border: var(--sklearn-color-fitted-level-1) 1pt solid;\n",
       "  color: var(--sklearn-color-fitted-level-1);\n",
       "}\n",
       "\n",
       "/* On hover */\n",
       "div.sk-estimator:hover .sk-estimator-doc-link:hover,\n",
       ".sk-estimator-doc-link:hover,\n",
       "div.sk-label-container:hover .sk-estimator-doc-link:hover,\n",
       ".sk-estimator-doc-link:hover {\n",
       "  /* unfitted */\n",
       "  background-color: var(--sklearn-color-unfitted-level-3);\n",
       "  color: var(--sklearn-color-background);\n",
       "  text-decoration: none;\n",
       "}\n",
       "\n",
       "div.sk-estimator.fitted:hover .sk-estimator-doc-link.fitted:hover,\n",
       ".sk-estimator-doc-link.fitted:hover,\n",
       "div.sk-label-container:hover .sk-estimator-doc-link.fitted:hover,\n",
       ".sk-estimator-doc-link.fitted:hover {\n",
       "  /* fitted */\n",
       "  background-color: var(--sklearn-color-fitted-level-3);\n",
       "  color: var(--sklearn-color-background);\n",
       "  text-decoration: none;\n",
       "}\n",
       "\n",
       "/* Span, style for the box shown on hovering the info icon */\n",
       ".sk-estimator-doc-link span {\n",
       "  display: none;\n",
       "  z-index: 9999;\n",
       "  position: relative;\n",
       "  font-weight: normal;\n",
       "  right: .2ex;\n",
       "  padding: .5ex;\n",
       "  margin: .5ex;\n",
       "  width: min-content;\n",
       "  min-width: 20ex;\n",
       "  max-width: 50ex;\n",
       "  color: var(--sklearn-color-text);\n",
       "  box-shadow: 2pt 2pt 4pt #999;\n",
       "  /* unfitted */\n",
       "  background: var(--sklearn-color-unfitted-level-0);\n",
       "  border: .5pt solid var(--sklearn-color-unfitted-level-3);\n",
       "}\n",
       "\n",
       ".sk-estimator-doc-link.fitted span {\n",
       "  /* fitted */\n",
       "  background: var(--sklearn-color-fitted-level-0);\n",
       "  border: var(--sklearn-color-fitted-level-3);\n",
       "}\n",
       "\n",
       ".sk-estimator-doc-link:hover span {\n",
       "  display: block;\n",
       "}\n",
       "\n",
       "/* \"?\"-specific style due to the `<a>` HTML tag */\n",
       "\n",
       "#sk-container-id-1 a.estimator_doc_link {\n",
       "  float: right;\n",
       "  font-size: 1rem;\n",
       "  line-height: 1em;\n",
       "  font-family: monospace;\n",
       "  background-color: var(--sklearn-color-background);\n",
       "  border-radius: 1rem;\n",
       "  height: 1rem;\n",
       "  width: 1rem;\n",
       "  text-decoration: none;\n",
       "  /* unfitted */\n",
       "  color: var(--sklearn-color-unfitted-level-1);\n",
       "  border: var(--sklearn-color-unfitted-level-1) 1pt solid;\n",
       "}\n",
       "\n",
       "#sk-container-id-1 a.estimator_doc_link.fitted {\n",
       "  /* fitted */\n",
       "  border: var(--sklearn-color-fitted-level-1) 1pt solid;\n",
       "  color: var(--sklearn-color-fitted-level-1);\n",
       "}\n",
       "\n",
       "/* On hover */\n",
       "#sk-container-id-1 a.estimator_doc_link:hover {\n",
       "  /* unfitted */\n",
       "  background-color: var(--sklearn-color-unfitted-level-3);\n",
       "  color: var(--sklearn-color-background);\n",
       "  text-decoration: none;\n",
       "}\n",
       "\n",
       "#sk-container-id-1 a.estimator_doc_link.fitted:hover {\n",
       "  /* fitted */\n",
       "  background-color: var(--sklearn-color-fitted-level-3);\n",
       "}\n",
       "</style><div id=\"sk-container-id-1\" class=\"sk-top-container\"><div class=\"sk-text-repr-fallback\"><pre>RandomForestRegressor(random_state=42)</pre><b>In a Jupyter environment, please rerun this cell to show the HTML representation or trust the notebook. <br />On GitHub, the HTML representation is unable to render, please try loading this page with nbviewer.org.</b></div><div class=\"sk-container\" hidden><div class=\"sk-item\"><div class=\"sk-estimator fitted sk-toggleable\"><input class=\"sk-toggleable__control sk-hidden--visually\" id=\"sk-estimator-id-1\" type=\"checkbox\" checked><label for=\"sk-estimator-id-1\" class=\"sk-toggleable__label fitted sk-toggleable__label-arrow\"><div><div>RandomForestRegressor</div></div><div><a class=\"sk-estimator-doc-link fitted\" rel=\"noreferrer\" target=\"_blank\" href=\"https://scikit-learn.org/1.6/modules/generated/sklearn.ensemble.RandomForestRegressor.html\">?<span>Documentation for RandomForestRegressor</span></a><span class=\"sk-estimator-doc-link fitted\">i<span>Fitted</span></span></div></label><div class=\"sk-toggleable__content fitted\"><pre>RandomForestRegressor(random_state=42)</pre></div> </div></div></div></div>"
      ],
      "text/plain": [
       "RandomForestRegressor(random_state=42)"
      ]
     },
     "execution_count": 29,
     "metadata": {},
     "output_type": "execute_result"
    }
   ],
   "source": [
    "rf= RandomForestRegressor(n_estimators=100, random_state=42)\n",
    "rf.fit(X_combined,y)"
   ]
  },
  {
   "cell_type": "code",
   "execution_count": 32,
   "metadata": {},
   "outputs": [
    {
     "name": "stdout",
     "output_type": "stream",
     "text": [
      "time city_hall_distance_km                   0.146408\n",
      "reviews trolley_distance_km                  0.066462\n",
      "reviews city_hall_distance_km                0.066244\n",
      "time reviews                                 0.055624\n",
      "time price                                   0.055303\n",
      "trolley_distance_km city_hall_distance_km    0.054773\n",
      "city_hall_distance_km price                  0.052105\n",
      "time trolley_distance_km                     0.048272\n",
      "trolley_distance_km price                    0.043108\n",
      "reviews price                                0.039010\n",
      "sqrt_time                                    0.038290\n",
      "city_hall_distance_km                        0.035565\n",
      "time                                         0.035090\n",
      "time^2                                       0.034029\n",
      "sqrt_city_hall_distance_km                   0.031152\n",
      "city_hall_distance_km^2                      0.028973\n",
      "trolley_distance_km                          0.023435\n",
      "reviews^2                                    0.022664\n",
      "reviews                                      0.022104\n",
      "sqrt_trolley_distance_km                     0.022047\n",
      "sqrt_reviews                                 0.021378\n",
      "trolley_distance_km^2                        0.021076\n",
      "price                                        0.015378\n",
      "sqrt_price                                   0.013306\n",
      "price^2                                      0.008203\n",
      "dtype: float64\n"
     ]
    }
   ],
   "source": [
    "importances = rf.feature_importances_\n",
    "\n",
    "# Match with feature names\n",
    "feature_importance = pd.Series(importances, index=X_combined.columns).sort_values(ascending=False)\n",
    "\n",
    "print(feature_importance)"
   ]
  },
  {
   "cell_type": "code",
   "execution_count": 33,
   "metadata": {},
   "outputs": [
    {
     "name": "stdout",
     "output_type": "stream",
     "text": [
      "Test MSE: 0.1520\n"
     ]
    }
   ],
   "source": [
    "X_test = df_test[all_features].copy()\n",
    "y_test = df_test['rating']\n",
    "\n",
    "# Square root features\n",
    "X_sqrt_test = np.sqrt(X_test.clip(lower=0))\n",
    "X_sqrt_test.columns = [f'sqrt_{col}' for col in X_sqrt_test.columns]\n",
    "\n",
    "# Polynomial features using already fitted poly\n",
    "X_poly_test = pd.DataFrame(poly.transform(X_test), columns=poly.get_feature_names_out(all_features))\n",
    "\n",
    "# Combine features\n",
    "X_combined_test = pd.concat([X_poly_test.reset_index(drop=True), X_sqrt_test.reset_index(drop=True)], axis=1)\n",
    "\n",
    "# Predict and compute MSE\n",
    "y_pred = rf.predict(X_combined_test)\n",
    "mse = mean_squared_error(y_test, y_pred)\n",
    "\n",
    "print(f\"Test MSE: {mse:.4f}\")"
   ]
  },
  {
   "cell_type": "code",
   "execution_count": 34,
   "metadata": {},
   "outputs": [],
   "source": [
    "residual = np.array(y_test) - np.array(y_pred)"
   ]
  },
  {
   "cell_type": "code",
   "execution_count": 35,
   "metadata": {},
   "outputs": [
    {
     "data": {
      "image/png": "[encoded data removed]",
      "text/plain": [
       "<Figure size 1000x600 with 1 Axes>"
      ]
     },
     "metadata": {},
     "output_type": "display_data"
    }
   ],
   "source": [
    "plt.figure(figsize=(10, 6))\n",
    "sns.histplot(residual, kde=True, bins=30, color='skyblue')\n",
    "plt.axvline(0, color='red', linestyle='--')\n",
    "plt.title(\"Distribution of Residuals\")\n",
    "plt.xlabel(\"Residual (True - Predicted)\")\n",
    "plt.ylabel(\"Frequency\")\n",
    "plt.show()"
   ]
  },
  {
   "cell_type": "code",
   "execution_count": null,
   "metadata": {},
   "outputs": [],
   "source": [
    "current_features= #the features for a new restaurant\n",
    "expeceted_rating=rf.predict(current_features)"
   ]
  }
 ],
 "metadata": {
  "kernelspec": {
   "display_name": "erdos_spring_2025",
   "language": "python",
   "name": "python3"
  },
  "language_info": {
   "codemirror_mode": {
    "name": "ipython",
    "version": 3
   },
   "file_extension": ".py",
   "mimetype": "text/x-python",
   "name": "python",
   "nbconvert_exporter": "python",
   "pygments_lexer": "ipython3",
   "version": "3.12.8"
  }
 },
 "nbformat": 4,
 "nbformat_minor": 2
}
